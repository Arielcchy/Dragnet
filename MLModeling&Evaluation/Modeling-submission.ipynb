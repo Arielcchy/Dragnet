{
 "cells": [
  {
   "cell_type": "code",
   "execution_count": 1,
   "id": "d36df302",
   "metadata": {},
   "outputs": [],
   "source": [
    "import numpy as np\n",
    "import pandas as pd\n",
    "import matplotlib.pyplot as plt\n",
    "import seaborn as sns"
   ]
  },
  {
   "cell_type": "code",
   "execution_count": 2,
   "id": "821b5c7a",
   "metadata": {},
   "outputs": [],
   "source": [
    "cha=pd.read_csv('CLEAN_charity_data.csv')"
   ]
  },
  {
   "cell_type": "code",
   "execution_count": 3,
   "id": "1efc36f4",
   "metadata": {},
   "outputs": [
    {
     "data": {
      "text/html": [
       "<div>\n",
       "<style scoped>\n",
       "    .dataframe tbody tr th:only-of-type {\n",
       "        vertical-align: middle;\n",
       "    }\n",
       "\n",
       "    .dataframe tbody tr th {\n",
       "        vertical-align: top;\n",
       "    }\n",
       "\n",
       "    .dataframe thead th {\n",
       "        text-align: right;\n",
       "    }\n",
       "</style>\n",
       "<table border=\"1\" class=\"dataframe\">\n",
       "  <thead>\n",
       "    <tr style=\"text-align: right;\">\n",
       "      <th></th>\n",
       "      <th>ascore</th>\n",
       "      <th>category</th>\n",
       "      <th>description</th>\n",
       "      <th>ein</th>\n",
       "      <th>tot_exp</th>\n",
       "      <th>admin_exp_p</th>\n",
       "      <th>fund_eff</th>\n",
       "      <th>fund_exp_p</th>\n",
       "      <th>program_exp_p</th>\n",
       "      <th>fscore</th>\n",
       "      <th>...</th>\n",
       "      <th>motto</th>\n",
       "      <th>name</th>\n",
       "      <th>tot_rev</th>\n",
       "      <th>score</th>\n",
       "      <th>state</th>\n",
       "      <th>subcategory</th>\n",
       "      <th>size</th>\n",
       "      <th>program_exp</th>\n",
       "      <th>fund_exp</th>\n",
       "      <th>admin_exp</th>\n",
       "    </tr>\n",
       "  </thead>\n",
       "  <tbody>\n",
       "    <tr>\n",
       "      <th>0</th>\n",
       "      <td>100.0</td>\n",
       "      <td>Environment</td>\n",
       "      <td>Working with Oregonians to enhance our quality...</td>\n",
       "      <td>93-0642086</td>\n",
       "      <td>917313.0</td>\n",
       "      <td>0.101</td>\n",
       "      <td>0.18</td>\n",
       "      <td>0.184</td>\n",
       "      <td>0.714</td>\n",
       "      <td>88.61</td>\n",
       "      <td>...</td>\n",
       "      <td>Great communities. Working lands. Iconic Places.</td>\n",
       "      <td>1000 Friends of Oregon</td>\n",
       "      <td>1022513.0</td>\n",
       "      <td>91.94</td>\n",
       "      <td>OR</td>\n",
       "      <td>Environmental Protection and Conservation</td>\n",
       "      <td>small</td>\n",
       "      <td>6.549615e+05</td>\n",
       "      <td>168785.592</td>\n",
       "      <td>92648.613</td>\n",
       "    </tr>\n",
       "    <tr>\n",
       "      <th>1</th>\n",
       "      <td>89.0</td>\n",
       "      <td>Arts, Culture, Humanities</td>\n",
       "      <td>Serving the metropolitan Baltimore area and th...</td>\n",
       "      <td>31-1770828</td>\n",
       "      <td>5053059.0</td>\n",
       "      <td>0.231</td>\n",
       "      <td>0.05</td>\n",
       "      <td>0.032</td>\n",
       "      <td>0.735</td>\n",
       "      <td>82.85</td>\n",
       "      <td>...</td>\n",
       "      <td>88.1 FM -. Your NPR News Station</td>\n",
       "      <td>WYPR</td>\n",
       "      <td>5685761.0</td>\n",
       "      <td>85.59</td>\n",
       "      <td>MD</td>\n",
       "      <td>Public Broadcasting and Media</td>\n",
       "      <td>mid</td>\n",
       "      <td>3.713998e+06</td>\n",
       "      <td>161697.888</td>\n",
       "      <td>1167256.629</td>\n",
       "    </tr>\n",
       "    <tr>\n",
       "      <th>2</th>\n",
       "      <td>70.0</td>\n",
       "      <td>Religion</td>\n",
       "      <td>VSS Catholic Communications is dedicated to an...</td>\n",
       "      <td>91-1857425</td>\n",
       "      <td>1891500.0</td>\n",
       "      <td>0.114</td>\n",
       "      <td>0.17</td>\n",
       "      <td>0.197</td>\n",
       "      <td>0.687</td>\n",
       "      <td>86.74</td>\n",
       "      <td>...</td>\n",
       "      <td>Spirit Catholic Radio Network</td>\n",
       "      <td>VSS Catholic Communications</td>\n",
       "      <td>2140836.0</td>\n",
       "      <td>76.80</td>\n",
       "      <td>NE</td>\n",
       "      <td>Religious Media and Broadcasting</td>\n",
       "      <td>small</td>\n",
       "      <td>1.299460e+06</td>\n",
       "      <td>372625.500</td>\n",
       "      <td>215631.000</td>\n",
       "    </tr>\n",
       "    <tr>\n",
       "      <th>3</th>\n",
       "      <td>93.0</td>\n",
       "      <td>Arts, Culture, Humanities</td>\n",
       "      <td>The mission of the Utah Symphony &amp; Opera is to...</td>\n",
       "      <td>51-0145980</td>\n",
       "      <td>22506582.0</td>\n",
       "      <td>0.092</td>\n",
       "      <td>0.08</td>\n",
       "      <td>0.054</td>\n",
       "      <td>0.852</td>\n",
       "      <td>91.03</td>\n",
       "      <td>...</td>\n",
       "      <td>Engaging, educating, and enriching lives</td>\n",
       "      <td>Utah Symphony &amp; Opera</td>\n",
       "      <td>22203175.0</td>\n",
       "      <td>91.95</td>\n",
       "      <td>UT</td>\n",
       "      <td>Performing Arts</td>\n",
       "      <td>big</td>\n",
       "      <td>1.917561e+07</td>\n",
       "      <td>1215355.428</td>\n",
       "      <td>2070605.544</td>\n",
       "    </tr>\n",
       "    <tr>\n",
       "      <th>4</th>\n",
       "      <td>100.0</td>\n",
       "      <td>Human Services</td>\n",
       "      <td>Funded solely by the footwear industry, Two Te...</td>\n",
       "      <td>22-2579809</td>\n",
       "      <td>5594243.0</td>\n",
       "      <td>0.126</td>\n",
       "      <td>0.12</td>\n",
       "      <td>0.122</td>\n",
       "      <td>0.750</td>\n",
       "      <td>86.23</td>\n",
       "      <td>...</td>\n",
       "      <td>Shoepeople Helping Shoepeople</td>\n",
       "      <td>Two Ten Footwear Foundation</td>\n",
       "      <td>6935506.0</td>\n",
       "      <td>90.26</td>\n",
       "      <td>MA</td>\n",
       "      <td>Social Services</td>\n",
       "      <td>mid</td>\n",
       "      <td>4.195682e+06</td>\n",
       "      <td>682497.646</td>\n",
       "      <td>704874.618</td>\n",
       "    </tr>\n",
       "  </tbody>\n",
       "</table>\n",
       "<p>5 rows × 23 columns</p>\n",
       "</div>"
      ],
      "text/plain": [
       "   ascore                   category  \\\n",
       "0   100.0                Environment   \n",
       "1    89.0  Arts, Culture, Humanities   \n",
       "2    70.0                   Religion   \n",
       "3    93.0  Arts, Culture, Humanities   \n",
       "4   100.0             Human Services   \n",
       "\n",
       "                                         description         ein     tot_exp  \\\n",
       "0  Working with Oregonians to enhance our quality...  93-0642086    917313.0   \n",
       "1  Serving the metropolitan Baltimore area and th...  31-1770828   5053059.0   \n",
       "2  VSS Catholic Communications is dedicated to an...  91-1857425   1891500.0   \n",
       "3  The mission of the Utah Symphony & Opera is to...  51-0145980  22506582.0   \n",
       "4  Funded solely by the footwear industry, Two Te...  22-2579809   5594243.0   \n",
       "\n",
       "   admin_exp_p  fund_eff  fund_exp_p  program_exp_p  fscore  ...  \\\n",
       "0        0.101      0.18       0.184          0.714   88.61  ...   \n",
       "1        0.231      0.05       0.032          0.735   82.85  ...   \n",
       "2        0.114      0.17       0.197          0.687   86.74  ...   \n",
       "3        0.092      0.08       0.054          0.852   91.03  ...   \n",
       "4        0.126      0.12       0.122          0.750   86.23  ...   \n",
       "\n",
       "                                              motto  \\\n",
       "0  Great communities. Working lands. Iconic Places.   \n",
       "1                  88.1 FM -. Your NPR News Station   \n",
       "2                     Spirit Catholic Radio Network   \n",
       "3          Engaging, educating, and enriching lives   \n",
       "4                     Shoepeople Helping Shoepeople   \n",
       "\n",
       "                          name     tot_rev  score state  \\\n",
       "0       1000 Friends of Oregon   1022513.0  91.94    OR   \n",
       "1                         WYPR   5685761.0  85.59    MD   \n",
       "2  VSS Catholic Communications   2140836.0  76.80    NE   \n",
       "3        Utah Symphony & Opera  22203175.0  91.95    UT   \n",
       "4  Two Ten Footwear Foundation   6935506.0  90.26    MA   \n",
       "\n",
       "                                 subcategory   size   program_exp  \\\n",
       "0  Environmental Protection and Conservation  small  6.549615e+05   \n",
       "1              Public Broadcasting and Media    mid  3.713998e+06   \n",
       "2           Religious Media and Broadcasting  small  1.299460e+06   \n",
       "3                            Performing Arts    big  1.917561e+07   \n",
       "4                            Social Services    mid  4.195682e+06   \n",
       "\n",
       "      fund_exp    admin_exp  \n",
       "0   168785.592    92648.613  \n",
       "1   161697.888  1167256.629  \n",
       "2   372625.500   215631.000  \n",
       "3  1215355.428  2070605.544  \n",
       "4   682497.646   704874.618  \n",
       "\n",
       "[5 rows x 23 columns]"
      ]
     },
     "execution_count": 3,
     "metadata": {},
     "output_type": "execute_result"
    }
   ],
   "source": [
    "cha.head()"
   ]
  },
  {
   "cell_type": "code",
   "execution_count": 4,
   "id": "5a09373e",
   "metadata": {},
   "outputs": [
    {
     "name": "stdout",
     "output_type": "stream",
     "text": [
      "Columns Head:\n",
      " Index(['ascore', 'category', 'description', 'ein', 'tot_exp', 'admin_exp_p',\n",
      "       'fund_eff', 'fund_exp_p', 'program_exp_p', 'fscore', 'leader',\n",
      "       'leader_comp', 'leader_comp_p', 'motto', 'name', 'tot_rev', 'score',\n",
      "       'state', 'subcategory', 'size', 'program_exp', 'fund_exp', 'admin_exp'],\n",
      "      dtype='object')\n"
     ]
    }
   ],
   "source": [
    "print(\"Columns Head:\\n\",cha.columns)"
   ]
  },
  {
   "cell_type": "code",
   "execution_count": 5,
   "id": "40ce3910",
   "metadata": {},
   "outputs": [
    {
     "name": "stdout",
     "output_type": "stream",
     "text": [
      "<class 'pandas.core.frame.DataFrame'>\n",
      "RangeIndex: 8408 entries, 0 to 8407\n",
      "Data columns (total 23 columns):\n",
      " #   Column         Non-Null Count  Dtype  \n",
      "---  ------         --------------  -----  \n",
      " 0   ascore         8408 non-null   float64\n",
      " 1   category       8408 non-null   object \n",
      " 2   description    8408 non-null   object \n",
      " 3   ein            8408 non-null   object \n",
      " 4   tot_exp        8408 non-null   float64\n",
      " 5   admin_exp_p    8408 non-null   float64\n",
      " 6   fund_eff       8408 non-null   float64\n",
      " 7   fund_exp_p     8408 non-null   float64\n",
      " 8   program_exp_p  8408 non-null   float64\n",
      " 9   fscore         8408 non-null   float64\n",
      " 10  leader         8408 non-null   object \n",
      " 11  leader_comp    7972 non-null   float64\n",
      " 12  leader_comp_p  7972 non-null   float64\n",
      " 13  motto          8395 non-null   object \n",
      " 14  name           8408 non-null   object \n",
      " 15  tot_rev        8408 non-null   float64\n",
      " 16  score          8408 non-null   float64\n",
      " 17  state          8408 non-null   object \n",
      " 18  subcategory    8408 non-null   object \n",
      " 19  size           8408 non-null   object \n",
      " 20  program_exp    8408 non-null   float64\n",
      " 21  fund_exp       8408 non-null   float64\n",
      " 22  admin_exp      8408 non-null   float64\n",
      "dtypes: float64(14), object(9)\n",
      "memory usage: 1.5+ MB\n"
     ]
    }
   ],
   "source": [
    "# Check for data type\n",
    "cha.info()"
   ]
  },
  {
   "cell_type": "code",
   "execution_count": 6,
   "id": "d1617609",
   "metadata": {},
   "outputs": [
    {
     "data": {
      "text/plain": [
       "ascore             0\n",
       "category           0\n",
       "description        0\n",
       "ein                0\n",
       "tot_exp            0\n",
       "admin_exp_p        0\n",
       "fund_eff           0\n",
       "fund_exp_p         0\n",
       "program_exp_p      0\n",
       "fscore             0\n",
       "leader             0\n",
       "leader_comp      436\n",
       "leader_comp_p    436\n",
       "motto             13\n",
       "name               0\n",
       "tot_rev            0\n",
       "score              0\n",
       "state              0\n",
       "subcategory        0\n",
       "size               0\n",
       "program_exp        0\n",
       "fund_exp           0\n",
       "admin_exp          0\n",
       "dtype: int64"
      ]
     },
     "execution_count": 6,
     "metadata": {},
     "output_type": "execute_result"
    }
   ],
   "source": [
    "# Check for missing values\n",
    "cha.isnull().sum()"
   ]
  },
  {
   "cell_type": "code",
   "execution_count": 7,
   "id": "c7218adb",
   "metadata": {},
   "outputs": [
    {
     "data": {
      "text/plain": [
       "<AxesSubplot:>"
      ]
     },
     "execution_count": 7,
     "metadata": {},
     "output_type": "execute_result"
    },
    {
     "data": {
      "image/png": "[encoded data removed]",
      "text/plain": [
       "<Figure size 432x288 with 1 Axes>"
      ]
     },
     "metadata": {
      "needs_background": "light"
     },
     "output_type": "display_data"
    }
   ],
   "source": [
    "# Visualizing the missing values - help to decide whether to drop these missing values or to replace them\n",
    "sns.heatmap(cha.isnull(), cbar=False, cmap='viridis')\n",
    "# since there are quite a few leader_comp & leader_comp_p data missing, dropping data is not advisable, \n",
    "# so I decide to replace them by mean"
   ]
  },
  {
   "cell_type": "code",
   "execution_count": 8,
   "id": "d5a0398d",
   "metadata": {},
   "outputs": [
    {
     "data": {
      "text/plain": [
       "ascore            0\n",
       "category          0\n",
       "description       0\n",
       "ein               0\n",
       "tot_exp           0\n",
       "admin_exp_p       0\n",
       "fund_eff          0\n",
       "fund_exp_p        0\n",
       "program_exp_p     0\n",
       "fscore            0\n",
       "leader            0\n",
       "leader_comp       0\n",
       "leader_comp_p     0\n",
       "motto            13\n",
       "name              0\n",
       "tot_rev           0\n",
       "score             0\n",
       "state             0\n",
       "subcategory       0\n",
       "size              0\n",
       "program_exp       0\n",
       "fund_exp          0\n",
       "admin_exp         0\n",
       "dtype: int64"
      ]
     },
     "execution_count": 8,
     "metadata": {},
     "output_type": "execute_result"
    }
   ],
   "source": [
    "# Replace NaN in leader_comp & leader_comp_p\n",
    "# Motta won't be neccessary to fill in, so just let it NaN\n",
    "meanLeaderCompPercentage = cha['leader_comp_p'].mean()\n",
    "meanLeaderCompValue = meanLeaderCompPercentage * cha['tot_exp']\n",
    "cha['leader_comp_p'].fillna(value=meanLeaderCompPercentage, inplace=True)\n",
    "cha['leader_comp'].fillna(value=meanLeaderCompValue, inplace=True)\n",
    "\n",
    "cha.isnull().sum()"
   ]
  },
  {
   "cell_type": "code",
   "execution_count": 9,
   "id": "e77a1bde",
   "metadata": {},
   "outputs": [
    {
     "data": {
      "text/plain": [
       "0    small\n",
       "1      mid\n",
       "2    small\n",
       "3      big\n",
       "4      mid\n",
       "Name: size, dtype: object"
      ]
     },
     "execution_count": 9,
     "metadata": {},
     "output_type": "execute_result"
    }
   ],
   "source": [
    "cha['size'].head()"
   ]
  },
  {
   "cell_type": "code",
   "execution_count": 10,
   "id": "52ced9cb",
   "metadata": {},
   "outputs": [],
   "source": [
    "# Replace size object to integer\n",
    "cha['size'].replace(to_replace =\"small\", value =1, inplace=True)\n",
    "cha['size'].replace(to_replace =\"mid\", value =2, inplace=True)\n",
    "cha['size'].replace(to_replace =\"big\", value =3, inplace=True)"
   ]
  },
  {
   "cell_type": "code",
   "execution_count": 11,
   "id": "3b85f20b",
   "metadata": {},
   "outputs": [
    {
     "data": {
      "text/plain": [
       "0    1\n",
       "1    2\n",
       "2    1\n",
       "3    3\n",
       "4    2\n",
       "Name: size, dtype: int64"
      ]
     },
     "execution_count": 11,
     "metadata": {},
     "output_type": "execute_result"
    }
   ],
   "source": [
    "cha['size'].head()"
   ]
  },
  {
   "cell_type": "code",
   "execution_count": 12,
   "id": "47c3a579",
   "metadata": {
    "scrolled": true
   },
   "outputs": [
    {
     "data": {
      "text/plain": [
       "0                  Environment\n",
       "1    Arts, Culture, Humanities\n",
       "2                     Religion\n",
       "3    Arts, Culture, Humanities\n",
       "4               Human Services\n",
       "Name: category, dtype: object"
      ]
     },
     "execution_count": 12,
     "metadata": {},
     "output_type": "execute_result"
    }
   ],
   "source": [
    "cha['category'].head()"
   ]
  },
  {
   "cell_type": "code",
   "execution_count": 13,
   "id": "45f6507c",
   "metadata": {},
   "outputs": [],
   "source": [
    "cha['category_split'] = cha['category'].str.split(\",\")"
   ]
  },
  {
   "cell_type": "code",
   "execution_count": 14,
   "id": "45600729",
   "metadata": {},
   "outputs": [
    {
     "data": {
      "text/plain": [
       "0                    [Environment]\n",
       "1    [Arts,  Culture,  Humanities]\n",
       "2                       [Religion]\n",
       "3    [Arts,  Culture,  Humanities]\n",
       "4                 [Human Services]\n",
       "Name: category_split, dtype: object"
      ]
     },
     "execution_count": 14,
     "metadata": {},
     "output_type": "execute_result"
    }
   ],
   "source": [
    "cha['category_split'].head()"
   ]
  },
  {
   "cell_type": "code",
   "execution_count": 15,
   "id": "408c045f",
   "metadata": {
    "scrolled": true
   },
   "outputs": [
    {
     "data": {
      "text/plain": [
       "0       [Environment]\n",
       "14      [Environment]\n",
       "38      [Environment]\n",
       "45      [Environment]\n",
       "76      [Environment]\n",
       "            ...      \n",
       "8060    [Environment]\n",
       "8123    [Environment]\n",
       "8182    [Environment]\n",
       "8393    [Environment]\n",
       "8394    [Environment]\n",
       "Name: category_split, Length: 429, dtype: object"
      ]
     },
     "execution_count": 15,
     "metadata": {},
     "output_type": "execute_result"
    }
   ],
   "source": [
    "# Counting one type in 'category_split' column\n",
    "filter1 = cha.apply(lambda row: \"Environment\" in row['category_split'], axis=1)\n",
    "category_cha = cha[filter1]\n",
    "# category_cha.drop(['category','description','ein','tot_exp','admin_exp','fund_exp','program_exp'],axis=1)\n",
    "category_cha['category_split']"
   ]
  },
  {
   "cell_type": "code",
   "execution_count": 16,
   "id": "cdace674",
   "metadata": {
    "scrolled": false
   },
   "outputs": [
    {
     "data": {
      "text/plain": [
       "{'Environment': 429,\n",
       " 'Arts': 1218,\n",
       " ' Culture': 1218,\n",
       " ' Humanities': 1218,\n",
       " 'Religion': 450,\n",
       " 'Human Services': 2379,\n",
       " 'Education': 667,\n",
       " 'Animals': 454,\n",
       " 'International': 610,\n",
       " 'Health': 847,\n",
       " 'Community Development': 803,\n",
       " 'Human and Civil Rights': 346,\n",
       " 'Research and Public Policy': 205}"
      ]
     },
     "execution_count": 16,
     "metadata": {},
     "output_type": "execute_result"
    }
   ],
   "source": [
    "# Counting each category row\n",
    "category_counter = {}\n",
    "for index,row in cha.iterrows():\n",
    "    for catego in row['category_split']:\n",
    "        category_counter[catego] = category_counter.get(catego,0)+1 #dictionary.get(keyname, value(optional, if no value on that key, return designate value))\n",
    "category_counter"
   ]
  },
  {
   "cell_type": "code",
   "execution_count": 17,
   "id": "1295bae1",
   "metadata": {
    "scrolled": true
   },
   "outputs": [
    {
     "name": "stdout",
     "output_type": "stream",
     "text": [
      "<class 'pandas.core.frame.DataFrame'>\n",
      "RangeIndex: 8408 entries, 0 to 8407\n",
      "Data columns (total 24 columns):\n",
      " #   Column          Non-Null Count  Dtype  \n",
      "---  ------          --------------  -----  \n",
      " 0   ascore          8408 non-null   float64\n",
      " 1   category        8408 non-null   object \n",
      " 2   description     8408 non-null   object \n",
      " 3   ein             8408 non-null   object \n",
      " 4   tot_exp         8408 non-null   float64\n",
      " 5   admin_exp_p     8408 non-null   float64\n",
      " 6   fund_eff        8408 non-null   float64\n",
      " 7   fund_exp_p      8408 non-null   float64\n",
      " 8   program_exp_p   8408 non-null   float64\n",
      " 9   fscore          8408 non-null   float64\n",
      " 10  leader          8408 non-null   object \n",
      " 11  leader_comp     8408 non-null   float64\n",
      " 12  leader_comp_p   8408 non-null   float64\n",
      " 13  motto           8395 non-null   object \n",
      " 14  name            8408 non-null   object \n",
      " 15  tot_rev         8408 non-null   float64\n",
      " 16  score           8408 non-null   float64\n",
      " 17  state           8408 non-null   object \n",
      " 18  subcategory     8408 non-null   object \n",
      " 19  size            8408 non-null   int64  \n",
      " 20  program_exp     8408 non-null   float64\n",
      " 21  fund_exp        8408 non-null   float64\n",
      " 22  admin_exp       8408 non-null   float64\n",
      " 23  category_split  8408 non-null   object \n",
      "dtypes: float64(14), int64(1), object(9)\n",
      "memory usage: 1.5+ MB\n"
     ]
    }
   ],
   "source": [
    "cha.info()"
   ]
  },
  {
   "cell_type": "markdown",
   "id": "ce38946b",
   "metadata": {},
   "source": [
    "ascore: accountability & transparency score <br>\n",
    "fscore: financial health score <br>\n",
    "score: overall score"
   ]
  },
  {
   "cell_type": "markdown",
   "id": "7fd35edb",
   "metadata": {},
   "source": [
    "# check the correlation\n",
    "check the correlation between different variables us on how to proceed further with a corelation roadmap"
   ]
  },
  {
   "cell_type": "code",
   "execution_count": 18,
   "id": "9b5d1966",
   "metadata": {},
   "outputs": [
    {
     "data": {
      "text/plain": [
       "<AxesSubplot:>"
      ]
     },
     "execution_count": 18,
     "metadata": {},
     "output_type": "execute_result"
    },
    {
     "data": {
      "image/png": "[encoded data removed]",
      "text/plain": [
       "<Figure size 720x720 with 2 Axes>"
      ]
     },
     "metadata": {
      "needs_background": "light"
     },
     "output_type": "display_data"
    }
   ],
   "source": [
    "plt.figure(figsize=(10,10))\n",
    "sns.heatmap(cha.corr(),cbar=True,annot=True,cmap='BrBG')"
   ]
  },
  {
   "cell_type": "markdown",
   "id": "b4458a6e",
   "metadata": {},
   "source": [
    "How to increase donors interest in investing onto recommend charities\n",
    "target variable\n",
    "independant variable: category, subcategory|fscore, ascore, score|size|distribution of admin_exp_p, program_exp_p, fund_exp_p"
   ]
  },
  {
   "cell_type": "markdown",
   "id": "b74c3942",
   "metadata": {},
   "source": [
    "<h3>Positive Correlation</h3> \n",
    "-admin_exp: fund_exp, program_exp, tot_rev, tot_exp; leader_comp\n",
    "-fund_exp: tot_exp, tot_rev, admin_exp, program_exp_e\n",
    "-program_exp: (tot_exp, tot_rev,) fund_exp, admin_exp\n",
    "-fscore: (score,) ascore, program_exp_p\n",
    "-ascore: (score,) \n",
    "-fund_eff: (fund_exp_p,)\n",
    "-tot_rev: tot_exp, program_exp, fund_exp, admin_exp\n",
    "-leader_comp_p: size\n",
    "-size: leader_comp\n",
    "<h3>Negative Correlation</h3>\n",
    "-fscore: fund_exp_p, fund_eff, admin_exp_p\n",
    "-ascore: -0.19\n",
    "-fund_eff: program_exp_p, tscore, score\n",
    "-tot_rev: -0.17\n",
    "-leader_comp_p: size\n",
    "-size: leader_comp_p <br>\n",
    "(focus on >= +/-0.4 correlation"
   ]
  },
  {
   "cell_type": "markdown",
   "id": "1db68c7c",
   "metadata": {},
   "source": [
    "# Exploratory Questions\n",
    "Questions related to \"independent variables\" and the \"target variable\"\n",
    "\n",
    "1. How do fscore, ascore affect exp distribution(program_exp, fund_exp, admin_exp)?\n",
    "2. Does size relate to categories?\n",
    "3. Does size relate to exp distribution?\n",
    "4. What categories tend to have higher/lower tot_exp when they are the same size charity?"
   ]
  },
  {
   "cell_type": "code",
   "execution_count": 19,
   "id": "3eda2b68",
   "metadata": {},
   "outputs": [
    {
     "name": "stdout",
     "output_type": "stream",
     "text": [
      "Requirement already satisfied: sweetviz in c:\\users\\ariel\\anaconda3\\lib\\site-packages (2.1.3)\n",
      "Requirement already satisfied: tqdm>=4.43.0 in c:\\users\\ariel\\anaconda3\\lib\\site-packages (from sweetviz) (4.59.0)\n",
      "Requirement already satisfied: pandas!=1.0.0,!=1.0.1,!=1.0.2,>=0.25.3 in c:\\users\\ariel\\anaconda3\\lib\\site-packages (from sweetviz) (1.2.4)\n",
      "Requirement already satisfied: jinja2>=2.11.1 in c:\\users\\ariel\\anaconda3\\lib\\site-packages (from sweetviz) (2.11.3)\n",
      "Requirement already satisfied: scipy>=1.3.2 in c:\\users\\ariel\\anaconda3\\lib\\site-packages (from sweetviz) (1.6.2)\n",
      "Requirement already satisfied: numpy>=1.16.0 in c:\\users\\ariel\\anaconda3\\lib\\site-packages (from sweetviz) (1.20.1)\n",
      "Requirement already satisfied: importlib-resources>=1.2.0 in c:\\users\\ariel\\anaconda3\\lib\\site-packages (from sweetviz) (5.3.0)\n",
      "Requirement already satisfied: matplotlib>=3.1.3 in c:\\users\\ariel\\anaconda3\\lib\\site-packages (from sweetviz) (3.3.4)\n",
      "Requirement already satisfied: zipp>=3.1.0 in c:\\users\\ariel\\anaconda3\\lib\\site-packages (from importlib-resources>=1.2.0->sweetviz) (3.4.1)\n",
      "Requirement already satisfied: MarkupSafe>=0.23 in c:\\users\\ariel\\anaconda3\\lib\\site-packages (from jinja2>=2.11.1->sweetviz) (1.1.1)\n",
      "Requirement already satisfied: python-dateutil>=2.1 in c:\\users\\ariel\\anaconda3\\lib\\site-packages (from matplotlib>=3.1.3->sweetviz) (2.8.1)\n",
      "Requirement already satisfied: pillow>=6.2.0 in c:\\users\\ariel\\anaconda3\\lib\\site-packages (from matplotlib>=3.1.3->sweetviz) (8.2.0)\n",
      "Requirement already satisfied: pyparsing!=2.0.4,!=2.1.2,!=2.1.6,>=2.0.3 in c:\\users\\ariel\\anaconda3\\lib\\site-packages (from matplotlib>=3.1.3->sweetviz) (2.4.7)\n",
      "Requirement already satisfied: cycler>=0.10 in c:\\users\\ariel\\anaconda3\\lib\\site-packages (from matplotlib>=3.1.3->sweetviz) (0.10.0)\n",
      "Requirement already satisfied: kiwisolver>=1.0.1 in c:\\users\\ariel\\anaconda3\\lib\\site-packages (from matplotlib>=3.1.3->sweetviz) (1.3.1)\n",
      "Requirement already satisfied: six in c:\\users\\ariel\\anaconda3\\lib\\site-packages (from cycler>=0.10->matplotlib>=3.1.3->sweetviz) (1.15.0)\n",
      "Requirement already satisfied: pytz>=2017.3 in c:\\users\\ariel\\anaconda3\\lib\\site-packages (from pandas!=1.0.0,!=1.0.1,!=1.0.2,>=0.25.3->sweetviz) (2021.1)\n"
     ]
    }
   ],
   "source": [
    "!pip install sweetviz\n",
    "import sweetviz as sv"
   ]
  },
  {
   "cell_type": "code",
   "execution_count": 20,
   "id": "8b23a7da",
   "metadata": {
    "scrolled": true
   },
   "outputs": [
    {
     "name": "stdout",
     "output_type": "stream",
     "text": [
      "<class 'pandas.core.frame.DataFrame'>\n",
      "Int64Index: 429 entries, 0 to 8394\n",
      "Data columns (total 24 columns):\n",
      " #   Column          Non-Null Count  Dtype  \n",
      "---  ------          --------------  -----  \n",
      " 0   ascore          429 non-null    float64\n",
      " 1   category        429 non-null    object \n",
      " 2   description     429 non-null    object \n",
      " 3   ein             429 non-null    object \n",
      " 4   tot_exp         429 non-null    float64\n",
      " 5   admin_exp_p     429 non-null    float64\n",
      " 6   fund_eff        429 non-null    float64\n",
      " 7   fund_exp_p      429 non-null    float64\n",
      " 8   program_exp_p   429 non-null    float64\n",
      " 9   fscore          429 non-null    float64\n",
      " 10  leader          429 non-null    object \n",
      " 11  leader_comp     429 non-null    float64\n",
      " 12  leader_comp_p   429 non-null    float64\n",
      " 13  motto           429 non-null    object \n",
      " 14  name            429 non-null    object \n",
      " 15  tot_rev         429 non-null    float64\n",
      " 16  score           429 non-null    float64\n",
      " 17  state           429 non-null    object \n",
      " 18  subcategory     429 non-null    object \n",
      " 19  size            429 non-null    int64  \n",
      " 20  program_exp     429 non-null    float64\n",
      " 21  fund_exp        429 non-null    float64\n",
      " 22  admin_exp       429 non-null    float64\n",
      " 23  category_split  429 non-null    object \n",
      "dtypes: float64(14), int64(1), object(9)\n",
      "memory usage: 83.8+ KB\n"
     ]
    }
   ],
   "source": [
    "# Filter Environment category in category column\n",
    "filter1 = cha.apply(lambda row:\"Environment\" in row[\"category\"], axis=1)\n",
    "cha[filter1].info()"
   ]
  },
  {
   "cell_type": "code",
   "execution_count": 21,
   "id": "ce89169b",
   "metadata": {},
   "outputs": [
    {
     "name": "stdout",
     "output_type": "stream",
     "text": [
      "{'Environment': 429, 'Arts, Culture, Humanities': 1218, 'Religion': 450, 'Human Services': 2379, 'Education': 667, 'Animals': 454, 'International': 610, 'Health': 847, 'Community Development': 803, 'Human and Civil Rights': 346, 'Research and Public Policy': 205}\n",
      "Wall time: 5.97 ms\n"
     ]
    }
   ],
   "source": [
    "%%time\n",
    "# Counting each category in category column\n",
    "category_counter = {}\n",
    "for cat in cha[\"category\"]:\n",
    "    category_counter[cat] = category_counter.get(cat, 0)+1      \n",
    "print(category_counter)"
   ]
  },
  {
   "cell_type": "code",
   "execution_count": 22,
   "id": "e4dcd4c8",
   "metadata": {
    "scrolled": false
   },
   "outputs": [
    {
     "data": {
      "image/png": "[encoded data removed]",
      "text/plain": [
       "<Figure size 504x504 with 1 Axes>"
      ]
     },
     "metadata": {},
     "output_type": "display_data"
    }
   ],
   "source": [
    "plt.figure(figsize=(7,7))\n",
    "plt.pie(list(category_counter.values()), labels=category_counter.keys())\n",
    "plt.title(\"Category Distribution\")\n",
    "plt.show()"
   ]
  },
  {
   "cell_type": "markdown",
   "id": "7f9310d6",
   "metadata": {},
   "source": [
    "# Content-based filtering\n",
    "k-means clustering for unsupervised learning"
   ]
  },
  {
   "cell_type": "markdown",
   "id": "97ff1728",
   "metadata": {},
   "source": [
    "Plot description based recommender<br>\n",
    "Natural Language Processing (NPL) + cosine similarities <br>\n",
    "https://www.datacamp.com/community/tutorials/recommender-systems-python"
   ]
  },
  {
   "cell_type": "code",
   "execution_count": 23,
   "id": "51b2c526",
   "metadata": {},
   "outputs": [
    {
     "data": {
      "text/plain": [
       "(8408, 21339)"
      ]
     },
     "execution_count": 23,
     "metadata": {},
     "output_type": "execute_result"
    }
   ],
   "source": [
    "# Term Frequency-Inverse Document Frequency (TF-IDF) vectors for each description\n",
    "from sklearn.feature_extraction.text import TfidfVectorizer\n",
    "\n",
    "#Define a TF-IDF Vectorizer Object. Remove all english stop words such as 'the', 'a'\n",
    "tfidf = TfidfVectorizer(stop_words='english')\n",
    "\n",
    "#Replace NaN with an empty string\n",
    "cha['description_tfidf'] = cha['description'].fillna('')\n",
    "\n",
    "#Construct the required TF-IDF matrix by fitting and transforming the data\n",
    "tfidf_matrix = tfidf.fit_transform(cha['description_tfidf'])\n",
    "\n",
    "#Output the shape of tfidf_matrix\n",
    "tfidf_matrix.shape"
   ]
  },
  {
   "cell_type": "markdown",
   "id": "ad6f14db",
   "metadata": {},
   "source": [
    "There is 21339 different vocabularies/words in the description, which has 8408 charities."
   ]
  },
  {
   "cell_type": "code",
   "execution_count": 24,
   "id": "c11b7278",
   "metadata": {
    "scrolled": true
   },
   "outputs": [
    {
     "data": {
      "text/plain": [
       "['councils',\n",
       " 'counsel',\n",
       " 'counseled',\n",
       " 'counseling',\n",
       " 'counselor',\n",
       " 'counselors',\n",
       " 'counsels',\n",
       " 'count',\n",
       " 'counter',\n",
       " 'counteracting']"
      ]
     },
     "execution_count": 24,
     "metadata": {},
     "output_type": "execute_result"
    }
   ],
   "source": [
    "#Array mapping from feature integer indices to feature name.\n",
    "tfidf.get_feature_names()[5000:5010]"
   ]
  },
  {
   "cell_type": "markdown",
   "id": "d1fee441",
   "metadata": {},
   "source": [
    "There are several similarity metrics that we can use for this, such as \n",
    "<h3>the manhattan<br>\n",
    "euclidean: ppl use this more often<br>\n",
    "    the Pearson<br>\n",
    "    the cosine similarity scores.</h3> \n",
    "There is no right answer to which score is the best. Different scores work well in different scenarios, and it is often a good idea to <strong>experiment with different metrics and observe the results.</strong>"
   ]
  },
  {
   "cell_type": "markdown",
   "id": "299775b9",
   "metadata": {},
   "source": [
    "# cosine similarity"
   ]
  },
  {
   "cell_type": "code",
   "execution_count": 25,
   "id": "54911b1b",
   "metadata": {},
   "outputs": [],
   "source": [
    "# Import linear_kernel\n",
    "from sklearn.metrics.pairwise import linear_kernel\n",
    "\n",
    "# Compute the cosine similarity matrix\n",
    "cosine_sim = linear_kernel(tfidf_matrix, tfidf_matrix)"
   ]
  },
  {
   "cell_type": "code",
   "execution_count": 26,
   "id": "e65c4b6b",
   "metadata": {},
   "outputs": [
    {
     "data": {
      "text/plain": [
       "(8408, 8408)"
      ]
     },
     "execution_count": 26,
     "metadata": {},
     "output_type": "execute_result"
    }
   ],
   "source": [
    "cosine_sim.shape"
   ]
  },
  {
   "cell_type": "code",
   "execution_count": 27,
   "id": "cc0d5572",
   "metadata": {},
   "outputs": [
    {
     "data": {
      "text/plain": [
       "array([[1.        , 0.00964056, 0.        , ..., 0.01112666, 0.        ,\n",
       "        0.03405581],\n",
       "       [0.00964056, 1.        , 0.02159964, ..., 0.00148839, 0.00955938,\n",
       "        0.02509763],\n",
       "       [0.        , 0.02159964, 1.        , ..., 0.0041108 , 0.0043083 ,\n",
       "        0.        ],\n",
       "       ...,\n",
       "       [0.01112666, 0.00148839, 0.0041108 , ..., 1.        , 0.01283096,\n",
       "        0.01152775],\n",
       "       [0.        , 0.00955938, 0.0043083 , ..., 0.01283096, 1.        ,\n",
       "        0.00887935],\n",
       "       [0.03405581, 0.02509763, 0.        , ..., 0.01152775, 0.00887935,\n",
       "        1.        ]])"
      ]
     },
     "execution_count": 27,
     "metadata": {},
     "output_type": "execute_result"
    }
   ],
   "source": [
    "cosine_sim[:]"
   ]
  },
  {
   "cell_type": "code",
   "execution_count": 28,
   "id": "ecd11b24",
   "metadata": {},
   "outputs": [],
   "source": [
    "#Construct a reverse map of indices and charity titles\n",
    "indices = pd.Series(cha.index, index=cha['name']).drop_duplicates()"
   ]
  },
  {
   "cell_type": "code",
   "execution_count": 29,
   "id": "824e7a91",
   "metadata": {},
   "outputs": [
    {
     "data": {
      "text/plain": [
       "name\n",
       "1000 Friends of Oregon              0\n",
       "WYPR                                1\n",
       "VSS Catholic Communications         2\n",
       "Utah Symphony & Opera               3\n",
       "Two Ten Footwear Foundation         4\n",
       "Syracuse Stage                      5\n",
       "Quiet Hour Ministries               6\n",
       "Put On The BRAKES,  B.R.A.K.E.S.    7\n",
       "Ozarks Food Harvest                 8\n",
       "NYC Outward Bound Schools           9\n",
       "dtype: int64"
      ]
     },
     "execution_count": 29,
     "metadata": {},
     "output_type": "execute_result"
    }
   ],
   "source": [
    "indices[:10]"
   ]
  },
  {
   "cell_type": "code",
   "execution_count": 30,
   "id": "644a1f4d",
   "metadata": {},
   "outputs": [],
   "source": [
    "# Function that takes in charity name as input and outputs most similar charities\n",
    "def get_recommendations(name, cosine_sim=cosine_sim):\n",
    "    # Get the index of the charity that matches the name\n",
    "    idx = indices[name]\n",
    "\n",
    "    # Get the pairwsie similarity scores of all charities with that charity\n",
    "    sim_scores = list(enumerate(cosine_sim[idx]))\n",
    "\n",
    "    # Sort the charities based on the similarity scores\n",
    "    sim_scores = sorted(sim_scores, key=lambda x: x[1], reverse=True)\n",
    "\n",
    "    # Get the scores of the 10 most similar charities\n",
    "    sim_scores = sim_scores[1:11]\n",
    "\n",
    "    # Get the charity indices\n",
    "    charity_indices = [i[0] for i in sim_scores]\n",
    "\n",
    "    # Return the top 10 most similar charities\n",
    "    return cha['name'].iloc[charity_indices]"
   ]
  },
  {
   "cell_type": "code",
   "execution_count": 31,
   "id": "cbeaa07e",
   "metadata": {},
   "outputs": [
    {
     "data": {
      "text/plain": [
       "4843                    American Forests\n",
       "2803               Sustainable Northwest\n",
       "1459    Northern Plains Resource Council\n",
       "1639           Neighborhood Partnerships\n",
       "7586                Great River Greening\n",
       "5991         Coastal Conservation League\n",
       "7556          Greater Newark Conservancy\n",
       "6731                    Dogwood Alliance\n",
       "3695             Urban Affairs Coalition\n",
       "3122                     Shelburne Farms\n",
       "Name: name, dtype: object"
      ]
     },
     "execution_count": 31,
     "metadata": {},
     "output_type": "execute_result"
    }
   ],
   "source": [
    "get_recommendations('1000 Friends of Oregon')"
   ]
  },
  {
   "cell_type": "markdown",
   "id": "3c9e3a13",
   "metadata": {},
   "source": [
    "# K-mean cluster\n",
    "https://www.youtube.com/watch?v=EItlUEPCIzM"
   ]
  },
  {
   "cell_type": "code",
   "execution_count": 32,
   "id": "250ea33b",
   "metadata": {},
   "outputs": [],
   "source": [
    "from sklearn.cluster import KMeans\n",
    "from sklearn.preprocessing import MinMaxScaler"
   ]
  },
  {
   "cell_type": "code",
   "execution_count": 33,
   "id": "108367db",
   "metadata": {
    "scrolled": true
   },
   "outputs": [
    {
     "data": {
      "text/html": [
       "<div>\n",
       "<style scoped>\n",
       "    .dataframe tbody tr th:only-of-type {\n",
       "        vertical-align: middle;\n",
       "    }\n",
       "\n",
       "    .dataframe tbody tr th {\n",
       "        vertical-align: top;\n",
       "    }\n",
       "\n",
       "    .dataframe thead th {\n",
       "        text-align: right;\n",
       "    }\n",
       "</style>\n",
       "<table border=\"1\" class=\"dataframe\">\n",
       "  <thead>\n",
       "    <tr style=\"text-align: right;\">\n",
       "      <th></th>\n",
       "      <th>ascore</th>\n",
       "      <th>category</th>\n",
       "      <th>description</th>\n",
       "      <th>ein</th>\n",
       "      <th>tot_exp</th>\n",
       "      <th>admin_exp_p</th>\n",
       "      <th>fund_eff</th>\n",
       "      <th>fund_exp_p</th>\n",
       "      <th>program_exp_p</th>\n",
       "      <th>fscore</th>\n",
       "      <th>...</th>\n",
       "      <th>tot_rev</th>\n",
       "      <th>score</th>\n",
       "      <th>state</th>\n",
       "      <th>subcategory</th>\n",
       "      <th>size</th>\n",
       "      <th>program_exp</th>\n",
       "      <th>fund_exp</th>\n",
       "      <th>admin_exp</th>\n",
       "      <th>category_split</th>\n",
       "      <th>description_tfidf</th>\n",
       "    </tr>\n",
       "  </thead>\n",
       "  <tbody>\n",
       "    <tr>\n",
       "      <th>0</th>\n",
       "      <td>100.0</td>\n",
       "      <td>Environment</td>\n",
       "      <td>Working with Oregonians to enhance our quality...</td>\n",
       "      <td>93-0642086</td>\n",
       "      <td>917313.0</td>\n",
       "      <td>0.101</td>\n",
       "      <td>0.18</td>\n",
       "      <td>0.184</td>\n",
       "      <td>0.714</td>\n",
       "      <td>88.61</td>\n",
       "      <td>...</td>\n",
       "      <td>1022513.0</td>\n",
       "      <td>91.94</td>\n",
       "      <td>OR</td>\n",
       "      <td>Environmental Protection and Conservation</td>\n",
       "      <td>1</td>\n",
       "      <td>6.549615e+05</td>\n",
       "      <td>168785.592</td>\n",
       "      <td>92648.613</td>\n",
       "      <td>[Environment]</td>\n",
       "      <td>Working with Oregonians to enhance our quality...</td>\n",
       "    </tr>\n",
       "    <tr>\n",
       "      <th>1</th>\n",
       "      <td>89.0</td>\n",
       "      <td>Arts, Culture, Humanities</td>\n",
       "      <td>Serving the metropolitan Baltimore area and th...</td>\n",
       "      <td>31-1770828</td>\n",
       "      <td>5053059.0</td>\n",
       "      <td>0.231</td>\n",
       "      <td>0.05</td>\n",
       "      <td>0.032</td>\n",
       "      <td>0.735</td>\n",
       "      <td>82.85</td>\n",
       "      <td>...</td>\n",
       "      <td>5685761.0</td>\n",
       "      <td>85.59</td>\n",
       "      <td>MD</td>\n",
       "      <td>Public Broadcasting and Media</td>\n",
       "      <td>2</td>\n",
       "      <td>3.713998e+06</td>\n",
       "      <td>161697.888</td>\n",
       "      <td>1167256.629</td>\n",
       "      <td>[Arts,  Culture,  Humanities]</td>\n",
       "      <td>Serving the metropolitan Baltimore area and th...</td>\n",
       "    </tr>\n",
       "    <tr>\n",
       "      <th>2</th>\n",
       "      <td>70.0</td>\n",
       "      <td>Religion</td>\n",
       "      <td>VSS Catholic Communications is dedicated to an...</td>\n",
       "      <td>91-1857425</td>\n",
       "      <td>1891500.0</td>\n",
       "      <td>0.114</td>\n",
       "      <td>0.17</td>\n",
       "      <td>0.197</td>\n",
       "      <td>0.687</td>\n",
       "      <td>86.74</td>\n",
       "      <td>...</td>\n",
       "      <td>2140836.0</td>\n",
       "      <td>76.80</td>\n",
       "      <td>NE</td>\n",
       "      <td>Religious Media and Broadcasting</td>\n",
       "      <td>1</td>\n",
       "      <td>1.299460e+06</td>\n",
       "      <td>372625.500</td>\n",
       "      <td>215631.000</td>\n",
       "      <td>[Religion]</td>\n",
       "      <td>VSS Catholic Communications is dedicated to an...</td>\n",
       "    </tr>\n",
       "    <tr>\n",
       "      <th>3</th>\n",
       "      <td>93.0</td>\n",
       "      <td>Arts, Culture, Humanities</td>\n",
       "      <td>The mission of the Utah Symphony &amp; Opera is to...</td>\n",
       "      <td>51-0145980</td>\n",
       "      <td>22506582.0</td>\n",
       "      <td>0.092</td>\n",
       "      <td>0.08</td>\n",
       "      <td>0.054</td>\n",
       "      <td>0.852</td>\n",
       "      <td>91.03</td>\n",
       "      <td>...</td>\n",
       "      <td>22203175.0</td>\n",
       "      <td>91.95</td>\n",
       "      <td>UT</td>\n",
       "      <td>Performing Arts</td>\n",
       "      <td>3</td>\n",
       "      <td>1.917561e+07</td>\n",
       "      <td>1215355.428</td>\n",
       "      <td>2070605.544</td>\n",
       "      <td>[Arts,  Culture,  Humanities]</td>\n",
       "      <td>The mission of the Utah Symphony &amp; Opera is to...</td>\n",
       "    </tr>\n",
       "    <tr>\n",
       "      <th>4</th>\n",
       "      <td>100.0</td>\n",
       "      <td>Human Services</td>\n",
       "      <td>Funded solely by the footwear industry, Two Te...</td>\n",
       "      <td>22-2579809</td>\n",
       "      <td>5594243.0</td>\n",
       "      <td>0.126</td>\n",
       "      <td>0.12</td>\n",
       "      <td>0.122</td>\n",
       "      <td>0.750</td>\n",
       "      <td>86.23</td>\n",
       "      <td>...</td>\n",
       "      <td>6935506.0</td>\n",
       "      <td>90.26</td>\n",
       "      <td>MA</td>\n",
       "      <td>Social Services</td>\n",
       "      <td>2</td>\n",
       "      <td>4.195682e+06</td>\n",
       "      <td>682497.646</td>\n",
       "      <td>704874.618</td>\n",
       "      <td>[Human Services]</td>\n",
       "      <td>Funded solely by the footwear industry, Two Te...</td>\n",
       "    </tr>\n",
       "  </tbody>\n",
       "</table>\n",
       "<p>5 rows × 25 columns</p>\n",
       "</div>"
      ],
      "text/plain": [
       "   ascore                   category  \\\n",
       "0   100.0                Environment   \n",
       "1    89.0  Arts, Culture, Humanities   \n",
       "2    70.0                   Religion   \n",
       "3    93.0  Arts, Culture, Humanities   \n",
       "4   100.0             Human Services   \n",
       "\n",
       "                                         description         ein     tot_exp  \\\n",
       "0  Working with Oregonians to enhance our quality...  93-0642086    917313.0   \n",
       "1  Serving the metropolitan Baltimore area and th...  31-1770828   5053059.0   \n",
       "2  VSS Catholic Communications is dedicated to an...  91-1857425   1891500.0   \n",
       "3  The mission of the Utah Symphony & Opera is to...  51-0145980  22506582.0   \n",
       "4  Funded solely by the footwear industry, Two Te...  22-2579809   5594243.0   \n",
       "\n",
       "   admin_exp_p  fund_eff  fund_exp_p  program_exp_p  fscore  ...     tot_rev  \\\n",
       "0        0.101      0.18       0.184          0.714   88.61  ...   1022513.0   \n",
       "1        0.231      0.05       0.032          0.735   82.85  ...   5685761.0   \n",
       "2        0.114      0.17       0.197          0.687   86.74  ...   2140836.0   \n",
       "3        0.092      0.08       0.054          0.852   91.03  ...  22203175.0   \n",
       "4        0.126      0.12       0.122          0.750   86.23  ...   6935506.0   \n",
       "\n",
       "   score  state                                subcategory size   program_exp  \\\n",
       "0  91.94     OR  Environmental Protection and Conservation    1  6.549615e+05   \n",
       "1  85.59     MD              Public Broadcasting and Media    2  3.713998e+06   \n",
       "2  76.80     NE           Religious Media and Broadcasting    1  1.299460e+06   \n",
       "3  91.95     UT                            Performing Arts    3  1.917561e+07   \n",
       "4  90.26     MA                            Social Services    2  4.195682e+06   \n",
       "\n",
       "      fund_exp    admin_exp                 category_split  \\\n",
       "0   168785.592    92648.613                  [Environment]   \n",
       "1   161697.888  1167256.629  [Arts,  Culture,  Humanities]   \n",
       "2   372625.500   215631.000                     [Religion]   \n",
       "3  1215355.428  2070605.544  [Arts,  Culture,  Humanities]   \n",
       "4   682497.646   704874.618               [Human Services]   \n",
       "\n",
       "                                   description_tfidf  \n",
       "0  Working with Oregonians to enhance our quality...  \n",
       "1  Serving the metropolitan Baltimore area and th...  \n",
       "2  VSS Catholic Communications is dedicated to an...  \n",
       "3  The mission of the Utah Symphony & Opera is to...  \n",
       "4  Funded solely by the footwear industry, Two Te...  \n",
       "\n",
       "[5 rows x 25 columns]"
      ]
     },
     "execution_count": 33,
     "metadata": {},
     "output_type": "execute_result"
    }
   ],
   "source": [
    "cha.head()"
   ]
  },
  {
   "cell_type": "code",
   "execution_count": 34,
   "id": "5eb29d2d",
   "metadata": {},
   "outputs": [
    {
     "data": {
      "text/plain": [
       "<matplotlib.collections.PathCollection at 0x1dc13691460>"
      ]
     },
     "execution_count": 34,
     "metadata": {},
     "output_type": "execute_result"
    },
    {
     "data": {
      "image/png": "[encoded data removed]",
      "text/plain": [
       "<Figure size 432x288 with 1 Axes>"
      ]
     },
     "metadata": {
      "needs_background": "light"
     },
     "output_type": "display_data"
    }
   ],
   "source": [
    "plt.scatter(cha.score, cha.tot_exp)"
   ]
  },
  {
   "cell_type": "code",
   "execution_count": 35,
   "id": "e1dc79e8",
   "metadata": {},
   "outputs": [],
   "source": [
    "km = KMeans(n_clusters=3)"
   ]
  },
  {
   "cell_type": "code",
   "execution_count": 36,
   "id": "7acdd1fa",
   "metadata": {
    "scrolled": true
   },
   "outputs": [
    {
     "data": {
      "text/plain": [
       "array([2, 2, 2, ..., 2, 2, 2])"
      ]
     },
     "execution_count": 36,
     "metadata": {},
     "output_type": "execute_result"
    }
   ],
   "source": [
    "y_predicted = km.fit_predict(cha[[\"score\", \"tot_exp\"]])\n",
    "y_predicted"
   ]
  },
  {
   "cell_type": "code",
   "execution_count": 37,
   "id": "807f75c3",
   "metadata": {
    "scrolled": true
   },
   "outputs": [
    {
     "data": {
      "text/plain": [
       "0       2\n",
       "1       2\n",
       "2       2\n",
       "3       2\n",
       "4       2\n",
       "       ..\n",
       "8403    2\n",
       "8404    2\n",
       "8405    2\n",
       "8406    2\n",
       "8407    2\n",
       "Name: clusters1, Length: 8408, dtype: int32"
      ]
     },
     "execution_count": 37,
     "metadata": {},
     "output_type": "execute_result"
    }
   ],
   "source": [
    "cha[\"clusters1\"] = y_predicted\n",
    "cha[\"clusters1\"]"
   ]
  },
  {
   "cell_type": "code",
   "execution_count": 38,
   "id": "cbffdc27",
   "metadata": {},
   "outputs": [
    {
     "name": "stderr",
     "output_type": "stream",
     "text": [
      "No handles with labels found to put in legend.\n"
     ]
    },
    {
     "data": {
      "text/plain": [
       "<matplotlib.legend.Legend at 0x1dc13c019d0>"
      ]
     },
     "execution_count": 38,
     "metadata": {},
     "output_type": "execute_result"
    },
    {
     "data": {
      "image/png": "[encoded data removed]",
      "text/plain": [
       "<Figure size 432x288 with 1 Axes>"
      ]
     },
     "metadata": {
      "needs_background": "light"
     },
     "output_type": "display_data"
    }
   ],
   "source": [
    "cluster0 = cha[cha.clusters1==0]\n",
    "cluster1 = cha[cha.clusters1==1]\n",
    "cluster2 = cha[cha.clusters1==2]\n",
    "cluster3 = cha[cha.clusters1==3]\n",
    "cluster4 = cha[cha.clusters1==4]\n",
    "plt.scatter(cluster0.score, cluster0.tot_exp, color=\"green\")\n",
    "plt.scatter(cluster1.score, cluster1.tot_exp, color=\"red\")\n",
    "plt.scatter(cluster2.score, cluster2.tot_exp, color=\"blue\")\n",
    "plt.scatter(cluster3.score, cluster3.tot_exp, color=\"black\")\n",
    "plt.scatter(cluster4.score, cluster4.tot_exp, color=\"yellow\")\n",
    "plt.xlabel(\"score\")\n",
    "plt.ylabel(\"tot_exp\")\n",
    "plt.legend()"
   ]
  },
  {
   "cell_type": "code",
   "execution_count": 39,
   "id": "9c36d622",
   "metadata": {
    "scrolled": true
   },
   "outputs": [
    {
     "data": {
      "text/plain": [
       "0       0.905753\n",
       "1       0.831501\n",
       "2       0.728718\n",
       "3       0.905870\n",
       "4       0.886109\n",
       "          ...   \n",
       "8403    0.758653\n",
       "8404    0.530402\n",
       "8405    0.860500\n",
       "8406    0.963868\n",
       "8407    0.909846\n",
       "Name: score_scalered, Length: 8408, dtype: float64"
      ]
     },
     "execution_count": 39,
     "metadata": {},
     "output_type": "execute_result"
    }
   ],
   "source": [
    "# change scaler (0-1) to make it more accurate while clustering \n",
    "scaler = MinMaxScaler()\n",
    "scaler.fit(cha[[\"tot_exp\"]])\n",
    "cha[\"tot_exp_scalered\"] = scaler.transform(cha[[\"tot_exp\"]])\n",
    "# cha[\"tot_exp_scalered\"]\n",
    "\n",
    "scaler.fit(cha[[\"score\"]])\n",
    "cha[\"score_scalered\"] = scaler.transform(cha[[\"score\"]])\n",
    "cha[\"score_scalered\"]"
   ]
  },
  {
   "cell_type": "code",
   "execution_count": 40,
   "id": "7f0f6063",
   "metadata": {},
   "outputs": [
    {
     "data": {
      "text/plain": [
       "array([0, 1, 1, ..., 0, 0, 0])"
      ]
     },
     "execution_count": 40,
     "metadata": {},
     "output_type": "execute_result"
    }
   ],
   "source": [
    "# KMean again with scalered\n",
    "km = KMeans(n_clusters=3)\n",
    "y_predicted = km.fit_predict(cha[[\"score_scalered\", \"tot_exp_scalered\"]])\n",
    "y_predicted"
   ]
  },
  {
   "cell_type": "code",
   "execution_count": 41,
   "id": "8de50fce",
   "metadata": {},
   "outputs": [
    {
     "data": {
      "text/plain": [
       "0       0\n",
       "1       1\n",
       "2       1\n",
       "3       0\n",
       "4       0\n",
       "       ..\n",
       "8403    1\n",
       "8404    2\n",
       "8405    0\n",
       "8406    0\n",
       "8407    0\n",
       "Name: clusters2, Length: 8408, dtype: int32"
      ]
     },
     "execution_count": 41,
     "metadata": {},
     "output_type": "execute_result"
    }
   ],
   "source": [
    "cha[\"clusters2\"] = y_predicted\n",
    "cha[\"clusters2\"]"
   ]
  },
  {
   "cell_type": "code",
   "execution_count": 42,
   "id": "77ecc0d4",
   "metadata": {},
   "outputs": [
    {
     "data": {
      "text/plain": [
       "array([[0.90896137, 0.00609885],\n",
       "       [0.80152555, 0.00312874],\n",
       "       [0.61641642, 0.00116624]])"
      ]
     },
     "execution_count": 42,
     "metadata": {},
     "output_type": "execute_result"
    }
   ],
   "source": [
    "km.cluster_centers_"
   ]
  },
  {
   "cell_type": "code",
   "execution_count": 43,
   "id": "f9da0d50",
   "metadata": {
    "scrolled": true
   },
   "outputs": [
    {
     "data": {
      "text/plain": [
       "<matplotlib.legend.Legend at 0x1dc13c636a0>"
      ]
     },
     "execution_count": 43,
     "metadata": {},
     "output_type": "execute_result"
    },
    {
     "data": {
      "image/png": "[encoded data removed]",
      "text/plain": [
       "<Figure size 432x288 with 1 Axes>"
      ]
     },
     "metadata": {
      "needs_background": "light"
     },
     "output_type": "display_data"
    }
   ],
   "source": [
    "cluster2_0 = cha[cha.clusters2==0]\n",
    "cluster2_1 = cha[cha.clusters2==1]\n",
    "cluster2_2 = cha[cha.clusters2==2]\n",
    "cluster2_3 = cha[cha.clusters2==3]\n",
    "cluster2_4 = cha[cha.clusters2==4]\n",
    "plt.scatter(cluster2_0.score_scalered, cluster2_0.tot_exp_scalered, color=\"green\")\n",
    "plt.scatter(cluster2_1.score_scalered, cluster2_1.tot_exp_scalered, color=\"red\")\n",
    "plt.scatter(cluster2_2.score_scalered, cluster2_2.tot_exp_scalered, color=\"blue\")\n",
    "plt.scatter(cluster2_3.score_scalered, cluster2_3.tot_exp_scalered, color=\"black\")\n",
    "plt.scatter(cluster2_4.score_scalered, cluster2_4.tot_exp_scalered, color=\"yellow\")\n",
    "plt.scatter(km.cluster_centers_[:,0], km.cluster_centers_[:,1], color=\"purple\", marker=\"*\", label=\"centroid\")\n",
    "plt.xlabel(\"score_scalered\")\n",
    "plt.ylabel(\"tot_exp_scalered\")\n",
    "plt.legend()"
   ]
  },
  {
   "cell_type": "markdown",
   "id": "a990860e",
   "metadata": {},
   "source": [
    "Elbow Technique - to define k"
   ]
  },
  {
   "cell_type": "code",
   "execution_count": 44,
   "id": "51753c0b",
   "metadata": {},
   "outputs": [],
   "source": [
    "k_rng = range(1,10)\n",
    "sse = [] #sum of squared errors\n",
    "for k in k_rng:\n",
    "    km = KMeans(n_clusters=k)\n",
    "    km.fit(cha[[\"score_scalered\",\"tot_exp_scalered\"]])\n",
    "    sse.append(km.inertia_) # inertia_ will give a sse"
   ]
  },
  {
   "cell_type": "code",
   "execution_count": 45,
   "id": "49801614",
   "metadata": {},
   "outputs": [
    {
     "data": {
      "text/plain": [
       "[78.52494762519149,\n",
       " 36.50849822718192,\n",
       " 22.941782542622096,\n",
       " 16.10404077713579,\n",
       " 11.868074189671592,\n",
       " 9.30032837628467,\n",
       " 7.061061810798252,\n",
       " 5.4440210750882425,\n",
       " 4.602957749271245]"
      ]
     },
     "execution_count": 45,
     "metadata": {},
     "output_type": "execute_result"
    }
   ],
   "source": [
    "sse"
   ]
  },
  {
   "cell_type": "code",
   "execution_count": 46,
   "id": "beb4b51c",
   "metadata": {},
   "outputs": [
    {
     "data": {
      "text/plain": [
       "[<matplotlib.lines.Line2D at 0x1dc13ce9ac0>]"
      ]
     },
     "execution_count": 46,
     "metadata": {},
     "output_type": "execute_result"
    },
    {
     "data": {
      "image/png": "[encoded data removed]",
      "text/plain": [
       "<Figure size 432x288 with 1 Axes>"
      ]
     },
     "metadata": {
      "needs_background": "light"
     },
     "output_type": "display_data"
    }
   ],
   "source": [
    "plt.xlabel(\"k\")\n",
    "plt.ylabel(\"Sum of Squared Error\")\n",
    "plt.plot(k_rng,sse)"
   ]
  },
  {
   "cell_type": "markdown",
   "id": "8ad1d340",
   "metadata": {},
   "source": [
    "my elbow is at 3, which means <h3>k=3</h3> is efficient enough to cluster cha.score and cha.tot_exp"
   ]
  }
 ],
 "metadata": {
  "kernelspec": {
   "display_name": "Python 3",
   "language": "python",
   "name": "python3"
  },
  "language_info": {
   "codemirror_mode": {
    "name": "ipython",
    "version": 3
   },
   "file_extension": ".py",
   "mimetype": "text/x-python",
   "name": "python",
   "nbconvert_exporter": "python",
   "pygments_lexer": "ipython3",
   "version": "3.8.8"
  }
 },
 "nbformat": 4,
 "nbformat_minor": 5
}
